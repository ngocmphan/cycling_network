{
 "cells": [
  {
   "cell_type": "code",
   "execution_count": null,
   "id": "19a3ba93",
   "metadata": {},
   "outputs": [
    {
     "name": "stdout",
     "output_type": "stream",
     "text": [
      "  province_territory municipality     source_class      canbics_class  \\\n",
      "0                 bc   abbotsford             path     multi_use_path   \n",
      "1                 bc   abbotsford             lane  painted_bike_lane   \n",
      "2                 on         ajax      cycle track        cycle_track   \n",
      "3                 on         ajax  multi-use trail     multi_use_path   \n",
      "4                 on         ajax   off-road trail     multi_use_path   \n",
      "\n",
      "                                     street_view_url  \n",
      "0  https://www.google.com/maps/@49.0670901,-122.3...  \n",
      "1  https://www.google.com/maps/@49.0479111,-122.3...  \n",
      "2  https://www.google.com/maps/@43.8241153,-79.00...  \n",
      "3                                                NaN  \n",
      "4  https://www.google.com/maps/@43.8381978,-79.00...  \n",
      "  province_territory municipality            provider  year_updated  \\\n",
      "0                 bc   abbotsford  City of Abbotsford          2021   \n",
      "1                 on         ajax        Town of Ajax          2021   \n",
      "2                 on       barrie      City of Barrie          2023   \n",
      "3                 on   belleville  City of Belleville          2022   \n",
      "4                 on     brampton    City of Brampton          2023   \n",
      "\n",
      "                                          source_url  \\\n",
      "0  https://opendata-abbotsford.hub.arcgis.com/dat...   \n",
      "1  https://opendata.ajax.ca/datasets/TownofAjax::...   \n",
      "2  https://opendata.barrie.ca/datasets/1bc1a28dee...   \n",
      "3  https://opendata-bellevillegis.hub.arcgis.com/...   \n",
      "4  https://geohub.brampton.ca/datasets/brampton::...   \n",
      "\n",
      "                                        download_url  \\\n",
      "0  https://opendata.arcgis.com/api/v3/datasets/9a...   \n",
      "1  https://opendata.arcgis.com/api/v3/datasets/cf...   \n",
      "2                                                NaN   \n",
      "3  https://opendata.arcgis.com/api/v3/datasets/60...   \n",
      "4  https://opendata.arcgis.com/api/v3/datasets/7a...   \n",
      "\n",
      "                                             license  \\\n",
      "0  https://opendata-abbotsford.hub.arcgis.com/pag...   \n",
      "1  http://townofajax.maps.arcgis.com/sharing/rest...   \n",
      "2  https://www.barrie.ca/Online%20Services/Publis...   \n",
      "3                                                NaN   \n",
      "4       https://creativecommons.org/licenses/by/4.0/   \n",
      "\n",
      "                                         attribution  \n",
      "0  Contains information licenced under the Open G...  \n",
      "1  Contains public sector Information made availa...  \n",
      "2  Contains information licensed under the Open G...  \n",
      "3                                                NaN  \n",
      "4                                                NaN  \n",
      "  municipality  Total  High comfort total  Cycle track  Local street bikeway  \\\n",
      "0   Abbotsford  178.0                 0.0          0.0                   0.0   \n",
      "1         Ajax   60.0                 0.0          0.0                   0.0   \n",
      "2       Barrie   64.0                 0.0          0.0                   0.0   \n",
      "3   Belleville   96.0                 5.0          0.0                   5.0   \n",
      "4     Brampton  614.0                 0.0          0.0                   0.0   \n",
      "\n",
      "   Bike path  Multi use path  Painted bike lane  Gravel trail  Shared roadway  \\\n",
      "0        0.0            58.0              120.0           0.0             0.0   \n",
      "1        0.0             0.0               31.0           0.0            29.0   \n",
      "2        0.0             0.0               46.0           0.0             4.0   \n",
      "3        0.0            43.0               13.0          36.0             0.0   \n",
      "4        0.0           470.0              120.0           0.0            24.0   \n",
      "\n",
      "   Major shared roadway  \n",
      "0                   0.0  \n",
      "1                   0.0  \n",
      "2                  14.0  \n",
      "3                   0.0  \n",
      "4                   0.0  \n"
     ]
    }
   ],
   "source": [
    "# Import lib\n",
    "import pandas as pd\n",
    "\n",
    "# Read datasets\n",
    "classification_dict = pd.read_csv(\"classification_dictionary.csv\")\n",
    "sources = pd.read_csv(\"data_sources.csv\")\n",
    "municipaltiy_infra = pd.read_csv(\"municipality_infra_summary.csv\")\n",
    "\n",
    "print(classification_dict.columns)\n",
    "print(sources.columns)\n",
    "print(municipaltiy_infra.columns) "
   ]
  }
 ],
 "metadata": {
  "kernelspec": {
   "display_name": "Python 3",
   "language": "python",
   "name": "python3"
  },
  "language_info": {
   "codemirror_mode": {
    "name": "ipython",
    "version": 3
   },
   "file_extension": ".py",
   "mimetype": "text/x-python",
   "name": "python",
   "nbconvert_exporter": "python",
   "pygments_lexer": "ipython3",
   "version": "3.11.9"
  }
 },
 "nbformat": 4,
 "nbformat_minor": 5
}
